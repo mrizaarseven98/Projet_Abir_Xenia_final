{
 "cells": [
  {
   "cell_type": "markdown",
   "metadata": {},
   "source": [
    "# **Instructions for The Thresholding Calibration Tool:**\n",
    "\n",
    "#### 1- Normally the threshold values are calibrated so you don't need this file.\n",
    "\n",
    "#### 2- If for some reason you have to fine tune the program by calibrating the kernel and the thresholding values, use the two interactive cells below. Make sure you have a folder called 'image' with at least one image in it, in the same directory with this notebook\n",
    "\n",
    "#### 3- Adaptive thresholding works better. In order to calibrate, use the sliders for the kernel and the constant. Make sure that the keypoints are white, clear and there is no to little noise around them. Kernel values > 50 are preferred for resolutions above 720p\n",
    "\n",
    "#### 4- Pick the two values and replace it in modul_aruco.py/trouve_pos_exact()\n",
    "\n",
    "#### 5- If for some reason, you choose the employ global thresholding, use the last cell. Make sure that the keypoints are well clear and noiseless. Note the value and replace it in modul_aruco.py/trouve_pos_exact()"
   ]
  },
  {
   "cell_type": "code",
   "execution_count": 71,
   "metadata": {},
   "outputs": [],
   "source": [
    "import ipywidgets as widgets\n",
    "import os\n",
    "from IPython.display import Image\n",
    "import cv2 as cv\n",
    "from ipywidgets import interact, interact_manual\n",
    "from scipy.stats import entropy\n",
    "import numpy as np"
   ]
  },
  {
   "cell_type": "markdown",
   "metadata": {},
   "source": [
    "## Adaptive Thresholding Calibration"
   ]
  },
  {
   "cell_type": "code",
   "execution_count": 72,
   "metadata": {},
   "outputs": [
    {
     "data": {
      "application/vnd.jupyter.widget-view+json": {
       "model_id": "c2a224ecb597425380d2fd3427098b15",
       "version_major": 2,
       "version_minor": 0
      },
      "text/plain": [
       "interactive(children=(Dropdown(description='image', options=('frame0000.jpg', 'frame0001.jpg', 'frame0002.jpg'…"
      ]
     },
     "metadata": {},
     "output_type": "display_data"
    }
   ],
   "source": [
    "\n",
    "slider=widgets.IntSlider(min=3, max=201, step=2, value=85)\n",
    "@interact\n",
    "def set_adaptive_threshold(image=sorted(os.listdir(\"image\")), constant=(-122,10), kernel_size=slider):\n",
    "    img = cv.imread('image/'+ image, cv.IMREAD_COLOR)\n",
    "    img_gray1 = cv.cvtColor(img, cv.COLOR_BGR2GRAY)\n",
    "    img_hsv= cv.cvtColor(img,cv.COLOR_BGR2HSV)\n",
    "    total_brightness=np.average(img_hsv[:,:,2])\n",
    "    #constant=-90/np.exp(np.power(125/total_brightness,2.5)-1)\n",
    "        \n",
    "    thresh=cv.adaptiveThreshold(img_gray1,255,cv.ADAPTIVE_THRESH_GAUSSIAN_C, cv.THRESH_BINARY,kernel_size, constant)\n",
    "    cv.imwrite(\"thresh_adaptive.png\", thresh)\n",
    "    display(Image(\"thresh_adaptive.png\"))"
   ]
  },
  {
   "cell_type": "markdown",
   "metadata": {},
   "source": [
    "## Global Thresholding Calibration"
   ]
  },
  {
   "cell_type": "code",
   "execution_count": 70,
   "metadata": {},
   "outputs": [
    {
     "data": {
      "application/vnd.jupyter.widget-view+json": {
       "model_id": "1e97848ad0cf49bfbe114970ae5aebe8",
       "version_major": 2,
       "version_minor": 0
      },
      "text/plain": [
       "interactive(children=(Dropdown(description='image', options=('frame0000.jpg', 'frame0001.jpg', 'frame0002.jpg'…"
      ]
     },
     "metadata": {},
     "output_type": "display_data"
    }
   ],
   "source": [
    "\n",
    "slider=widgets.IntSlider(min=3, max=100, step=2, value=25)\n",
    "@interact\n",
    "def set_global_threshold(image=sorted(os.listdir(\"image\")), constant=(0,255)):\n",
    "    img = cv.imread('image/' + image, cv.IMREAD_COLOR)\n",
    "    img_gray1 = cv.cvtColor(img, cv.COLOR_BGR2GRAY)\n",
    "    ret, thresh1 = cv.threshold(img_gray1, constant, 255, cv.THRESH_BINARY)\n",
    "    cv.imwrite(\"global_thresh.png\", thresh1)\n",
    "    display(Image(\"global_thresh.png\"))"
   ]
  }
 ],
 "metadata": {
  "kernelspec": {
   "display_name": "Python 3.8.10 64-bit",
   "language": "python",
   "name": "python3"
  },
  "language_info": {
   "codemirror_mode": {
    "name": "ipython",
    "version": 3
   },
   "file_extension": ".py",
   "mimetype": "text/x-python",
   "name": "python",
   "nbconvert_exporter": "python",
   "pygments_lexer": "ipython3",
   "version": "3.8.10"
  },
  "orig_nbformat": 4,
  "vscode": {
   "interpreter": {
    "hash": "916dbcbb3f70747c44a77c7bcd40155683ae19c65e1c03b4aa3499c5328201f1"
   }
  }
 },
 "nbformat": 4,
 "nbformat_minor": 2
}
